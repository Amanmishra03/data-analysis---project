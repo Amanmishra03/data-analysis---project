{
 "cells": [
  {
   "cell_type": "code",
   "execution_count": 2,
   "metadata": {},
   "outputs": [],
   "source": [
    "import pandas as pd\n",
    "import numpy as np \n",
    "import matplotlib.pyplot as plt\n",
    "import seaborn as sns\n",
    "import plotly.express as px"
   ]
  },
  {
   "cell_type": "code",
   "execution_count": 4,
   "metadata": {},
   "outputs": [],
   "source": [
    "data = pd.read_csv(\"shopping_trends.csv\")"
   ]
  },
  {
   "cell_type": "code",
   "execution_count": 5,
   "metadata": {},
   "outputs": [
    {
     "name": "stdout",
     "output_type": "stream",
     "text": [
      "      Customer ID  Age  Gender Item Purchased     Category  \\\n",
      "0               1   55    Male         Blouse     Clothing   \n",
      "1               2   19    Male        Sweater     Clothing   \n",
      "2               3   50    Male          Jeans     Clothing   \n",
      "3               4   21    Male        Sandals     Footwear   \n",
      "4               5   45    Male         Blouse     Clothing   \n",
      "...           ...  ...     ...            ...          ...   \n",
      "3895         3896   40  Female         Hoodie     Clothing   \n",
      "3896         3897   52  Female       Backpack  Accessories   \n",
      "3897         3898   46  Female           Belt  Accessories   \n",
      "3898         3899   44  Female          Shoes     Footwear   \n",
      "3899         3900   52  Female        Handbag  Accessories   \n",
      "\n",
      "      Purchase Amount (USD)       Location Size      Color  Season  \\\n",
      "0                        53       Kentucky    L       Gray  Winter   \n",
      "1                        64          Maine    L     Maroon  Winter   \n",
      "2                        73  Massachusetts    S     Maroon  Spring   \n",
      "3                        90   Rhode Island    M     Maroon  Spring   \n",
      "4                        49         Oregon    M  Turquoise  Spring   \n",
      "...                     ...            ...  ...        ...     ...   \n",
      "3895                     28       Virginia    L  Turquoise  Summer   \n",
      "3896                     49           Iowa    L      White  Spring   \n",
      "3897                     33     New Jersey    L      Green  Spring   \n",
      "3898                     77      Minnesota    S      Brown  Summer   \n",
      "3899                     81     California    M      Beige  Spring   \n",
      "\n",
      "      Review Rating Subscription Status Payment Method   Shipping Type  \\\n",
      "0               3.1                 Yes    Credit Card         Express   \n",
      "1               3.1                 Yes  Bank Transfer         Express   \n",
      "2               3.1                 Yes           Cash   Free Shipping   \n",
      "3               3.5                 Yes         PayPal    Next Day Air   \n",
      "4               2.7                 Yes           Cash   Free Shipping   \n",
      "...             ...                 ...            ...             ...   \n",
      "3895            4.2                  No           Cash  2-Day Shipping   \n",
      "3896            4.5                  No         PayPal    Store Pickup   \n",
      "3897            2.9                  No    Credit Card        Standard   \n",
      "3898            3.8                  No         PayPal         Express   \n",
      "3899            3.1                  No  Bank Transfer    Store Pickup   \n",
      "\n",
      "     Discount Applied Promo Code Used  Previous Purchases  \\\n",
      "0                 Yes             Yes                  14   \n",
      "1                 Yes             Yes                   2   \n",
      "2                 Yes             Yes                  23   \n",
      "3                 Yes             Yes                  49   \n",
      "4                 Yes             Yes                  31   \n",
      "...               ...             ...                 ...   \n",
      "3895               No              No                  32   \n",
      "3896               No              No                  41   \n",
      "3897               No              No                  24   \n",
      "3898               No              No                  24   \n",
      "3899               No              No                  33   \n",
      "\n",
      "     Preferred Payment Method Frequency of Purchases  \n",
      "0                       Venmo            Fortnightly  \n",
      "1                        Cash            Fortnightly  \n",
      "2                 Credit Card                 Weekly  \n",
      "3                      PayPal                 Weekly  \n",
      "4                      PayPal               Annually  \n",
      "...                       ...                    ...  \n",
      "3895                    Venmo                 Weekly  \n",
      "3896            Bank Transfer              Bi-Weekly  \n",
      "3897                    Venmo              Quarterly  \n",
      "3898                    Venmo                 Weekly  \n",
      "3899                    Venmo              Quarterly  \n",
      "\n",
      "[3900 rows x 19 columns]\n"
     ]
    }
   ],
   "source": [
    "print(data)"
   ]
  },
  {
   "cell_type": "code",
   "execution_count": 6,
   "metadata": {},
   "outputs": [
    {
     "name": "stdout",
     "output_type": "stream",
     "text": [
      "<class 'pandas.core.frame.DataFrame'>\n",
      "RangeIndex: 3900 entries, 0 to 3899\n",
      "Data columns (total 19 columns):\n",
      " #   Column                    Non-Null Count  Dtype  \n",
      "---  ------                    --------------  -----  \n",
      " 0   Customer ID               3900 non-null   int64  \n",
      " 1   Age                       3900 non-null   int64  \n",
      " 2   Gender                    3900 non-null   object \n",
      " 3   Item Purchased            3900 non-null   object \n",
      " 4   Category                  3900 non-null   object \n",
      " 5   Purchase Amount (USD)     3900 non-null   int64  \n",
      " 6   Location                  3900 non-null   object \n",
      " 7   Size                      3900 non-null   object \n",
      " 8   Color                     3900 non-null   object \n",
      " 9   Season                    3900 non-null   object \n",
      " 10  Review Rating             3900 non-null   float64\n",
      " 11  Subscription Status       3900 non-null   object \n",
      " 12  Payment Method            3900 non-null   object \n",
      " 13  Shipping Type             3900 non-null   object \n",
      " 14  Discount Applied          3900 non-null   object \n",
      " 15  Promo Code Used           3900 non-null   object \n",
      " 16  Previous Purchases        3900 non-null   int64  \n",
      " 17  Preferred Payment Method  3900 non-null   object \n",
      " 18  Frequency of Purchases    3900 non-null   object \n",
      "dtypes: float64(1), int64(4), object(14)\n",
      "memory usage: 579.0+ KB\n"
     ]
    }
   ],
   "source": [
    "data.info()"
   ]
  },
  {
   "cell_type": "code",
   "execution_count": 7,
   "metadata": {},
   "outputs": [
    {
     "data": {
      "text/html": [
       "<div>\n",
       "<style scoped>\n",
       "    .dataframe tbody tr th:only-of-type {\n",
       "        vertical-align: middle;\n",
       "    }\n",
       "\n",
       "    .dataframe tbody tr th {\n",
       "        vertical-align: top;\n",
       "    }\n",
       "\n",
       "    .dataframe thead th {\n",
       "        text-align: right;\n",
       "    }\n",
       "</style>\n",
       "<table border=\"1\" class=\"dataframe\">\n",
       "  <thead>\n",
       "    <tr style=\"text-align: right;\">\n",
       "      <th></th>\n",
       "      <th>Customer ID</th>\n",
       "      <th>Age</th>\n",
       "      <th>Purchase Amount (USD)</th>\n",
       "      <th>Review Rating</th>\n",
       "      <th>Previous Purchases</th>\n",
       "    </tr>\n",
       "  </thead>\n",
       "  <tbody>\n",
       "    <tr>\n",
       "      <th>count</th>\n",
       "      <td>3900.000000</td>\n",
       "      <td>3900.000000</td>\n",
       "      <td>3900.000000</td>\n",
       "      <td>3900.000000</td>\n",
       "      <td>3900.000000</td>\n",
       "    </tr>\n",
       "    <tr>\n",
       "      <th>mean</th>\n",
       "      <td>1950.500000</td>\n",
       "      <td>44.068462</td>\n",
       "      <td>59.764359</td>\n",
       "      <td>3.749949</td>\n",
       "      <td>25.351538</td>\n",
       "    </tr>\n",
       "    <tr>\n",
       "      <th>std</th>\n",
       "      <td>1125.977353</td>\n",
       "      <td>15.207589</td>\n",
       "      <td>23.685392</td>\n",
       "      <td>0.716223</td>\n",
       "      <td>14.447125</td>\n",
       "    </tr>\n",
       "    <tr>\n",
       "      <th>min</th>\n",
       "      <td>1.000000</td>\n",
       "      <td>18.000000</td>\n",
       "      <td>20.000000</td>\n",
       "      <td>2.500000</td>\n",
       "      <td>1.000000</td>\n",
       "    </tr>\n",
       "    <tr>\n",
       "      <th>25%</th>\n",
       "      <td>975.750000</td>\n",
       "      <td>31.000000</td>\n",
       "      <td>39.000000</td>\n",
       "      <td>3.100000</td>\n",
       "      <td>13.000000</td>\n",
       "    </tr>\n",
       "    <tr>\n",
       "      <th>50%</th>\n",
       "      <td>1950.500000</td>\n",
       "      <td>44.000000</td>\n",
       "      <td>60.000000</td>\n",
       "      <td>3.700000</td>\n",
       "      <td>25.000000</td>\n",
       "    </tr>\n",
       "    <tr>\n",
       "      <th>75%</th>\n",
       "      <td>2925.250000</td>\n",
       "      <td>57.000000</td>\n",
       "      <td>81.000000</td>\n",
       "      <td>4.400000</td>\n",
       "      <td>38.000000</td>\n",
       "    </tr>\n",
       "    <tr>\n",
       "      <th>max</th>\n",
       "      <td>3900.000000</td>\n",
       "      <td>70.000000</td>\n",
       "      <td>100.000000</td>\n",
       "      <td>5.000000</td>\n",
       "      <td>50.000000</td>\n",
       "    </tr>\n",
       "  </tbody>\n",
       "</table>\n",
       "</div>"
      ],
      "text/plain": [
       "       Customer ID          Age  Purchase Amount (USD)  Review Rating  \\\n",
       "count  3900.000000  3900.000000            3900.000000    3900.000000   \n",
       "mean   1950.500000    44.068462              59.764359       3.749949   \n",
       "std    1125.977353    15.207589              23.685392       0.716223   \n",
       "min       1.000000    18.000000              20.000000       2.500000   \n",
       "25%     975.750000    31.000000              39.000000       3.100000   \n",
       "50%    1950.500000    44.000000              60.000000       3.700000   \n",
       "75%    2925.250000    57.000000              81.000000       4.400000   \n",
       "max    3900.000000    70.000000             100.000000       5.000000   \n",
       "\n",
       "       Previous Purchases  \n",
       "count         3900.000000  \n",
       "mean            25.351538  \n",
       "std             14.447125  \n",
       "min              1.000000  \n",
       "25%             13.000000  \n",
       "50%             25.000000  \n",
       "75%             38.000000  \n",
       "max             50.000000  "
      ]
     },
     "execution_count": 7,
     "metadata": {},
     "output_type": "execute_result"
    }
   ],
   "source": [
    "data.describe()"
   ]
  },
  {
   "cell_type": "code",
   "execution_count": 8,
   "metadata": {},
   "outputs": [
    {
     "name": "stdout",
     "output_type": "stream",
     "text": [
      "columns with numeric data\n",
      "['Customer ID', 'Age', 'Purchase Amount (USD)', 'Review Rating', 'Previous Purchases']\n",
      "columns with non numerica data\n",
      "['Gender', 'Item Purchased', 'Category', 'Location', 'Size', 'Color', 'Season', 'Subscription Status', 'Payment Method', 'Shipping Type', 'Discount Applied', 'Promo Code Used', 'Preferred Payment Method', 'Frequency of Purchases']\n"
     ]
    }
   ],
   "source": [
    "print('columns with numeric data')\n",
    "print(data.select_dtypes(include='number').columns.tolist())\n",
    "print('columns with non numerica data')\n",
    "print(data.select_dtypes(exclude='number').columns.tolist())"
   ]
  },
  {
   "cell_type": "code",
   "execution_count": 9,
   "metadata": {},
   "outputs": [
    {
     "data": {
      "text/plain": [
       "Customer ID                 0\n",
       "Age                         0\n",
       "Gender                      0\n",
       "Item Purchased              0\n",
       "Category                    0\n",
       "Purchase Amount (USD)       0\n",
       "Location                    0\n",
       "Size                        0\n",
       "Color                       0\n",
       "Season                      0\n",
       "Review Rating               0\n",
       "Subscription Status         0\n",
       "Payment Method              0\n",
       "Shipping Type               0\n",
       "Discount Applied            0\n",
       "Promo Code Used             0\n",
       "Previous Purchases          0\n",
       "Preferred Payment Method    0\n",
       "Frequency of Purchases      0\n",
       "dtype: int64"
      ]
     },
     "execution_count": 9,
     "metadata": {},
     "output_type": "execute_result"
    }
   ],
   "source": [
    "data.isnull().sum()"
   ]
  }
 ],
 "metadata": {
  "kernelspec": {
   "display_name": "base",
   "language": "python",
   "name": "python3"
  },
  "language_info": {
   "codemirror_mode": {
    "name": "ipython",
    "version": 3
   },
   "file_extension": ".py",
   "mimetype": "text/x-python",
   "name": "python",
   "nbconvert_exporter": "python",
   "pygments_lexer": "ipython3",
   "version": "3.11.4"
  }
 },
 "nbformat": 4,
 "nbformat_minor": 2
}
